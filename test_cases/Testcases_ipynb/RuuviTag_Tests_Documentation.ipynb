{
 "cells": [
  {
   "cell_type": "markdown",
   "id": "1945fdc8",
   "metadata": {},
   "source": [
    "# Testcases\n",
    "Author: Furkan Tombul"
   ]
  },
  {
   "cell_type": "markdown",
   "id": "d294d117",
   "metadata": {},
   "source": [
    "This section is all about executing testcases. All Tests below should be executed and verified regulalry to guarantee a stable and working environment. <br>\n",
    "This file should always kept up to date to make it as easy as possible to run any tests after copying the git repository. "
   ]
  },
  {
   "cell_type": "markdown",
   "id": "b1cd66e9",
   "metadata": {},
   "source": [
    "# Testcase 01: Get Acceleration data and check"
   ]
  },
  {
   "cell_type": "markdown",
   "id": "32dfeb48",
   "metadata": {},
   "source": [
    "***Setup Environment*** <br>\n",
    "Load the necessary libraries and verify that the SensorGatewayBleak library can be imported"
   ]
  },
  {
   "cell_type": "raw",
   "id": "456f7b91",
   "metadata": {},
   "source": [
    "import struct\n",
    "import time\n",
    "import sys\n",
    "sys.path.append(\"../..\")\n",
    "from gateway import SensorGatewayBleak\n",
    "from test_cases import Testautomation\n",
    "from binascii import hexlify\n",
    "from datetime import datetime"
   ]
  },
  {
   "cell_type": "raw",
   "id": "09a17d57",
   "metadata": {},
   "source": [
    "test = SensorGatewayBleak.RuuviTagAccelerometerCommunicationBleak()"
   ]
  },
  {
   "cell_type": "markdown",
   "id": "d020d49f",
   "metadata": {},
   "source": [
    "## Get acceleration data from RuuviTag and Check"
   ]
  },
  {
   "cell_type": "markdown",
   "id": "2d2e43e3",
   "metadata": {},
   "source": [
    "1. Set the configuration and\n",
    "2. Verify that the configuration parameters are applied and check the expected time steps for this configuration\n",
    "3. Start the test and verify that time steps are correct. Check the output in the end for time step errors"
   ]
  },
  {
   "cell_type": "raw",
   "id": "cccea6af",
   "metadata": {},
   "source": [
    "test.set_config_sensor(sampling_rate=10,sampling_resolution=10,measuring_range=4)\n",
    "config_datas = test.get_config_from_sensor()\n",
    "print(config_datas)\n"
   ]
  },
  {
   "cell_type": "raw",
   "id": "c6504797",
   "metadata": {},
   "source": [
    "config_datas = test.get_config_from_sensor()\n",
    "print(\"Sampling_rate:{}\".format(config_datas['Samplerate']))\n",
    "time_steps = 1 / config_datas['Samplerate']\n",
    "print(\"Expected time steps:{}\".format(time_steps))"
   ]
  },
  {
   "cell_type": "raw",
   "id": "4b5d6cd3",
   "metadata": {},
   "source": [
    "mytest = Testautomation.Testfunctions()\n",
    "mytest.TC01_GetDataAndCheckTime('D0:91:77:B4:18:A5')"
   ]
  },
  {
   "cell_type": "markdown",
   "id": "1af18f8b",
   "metadata": {},
   "source": [
    "________________________________________________________________________________________________________"
   ]
  },
  {
   "cell_type": "markdown",
   "id": "53a3498d",
   "metadata": {},
   "source": [
    "# Testcase 02: Set configuration with valid parameters "
   ]
  },
  {
   "cell_type": "markdown",
   "id": "36514442",
   "metadata": {},
   "source": [
    "***Setup Environment*** <br>\n",
    "Load the necessary libraries and verify that the SensorGatewayBleak library can be imported"
   ]
  },
  {
   "cell_type": "raw",
   "id": "bbe5b347",
   "metadata": {},
   "source": [
    "import struct\n",
    "import time\n",
    "import sys\n",
    "sys.path.append(\"../..\")\n",
    "from gateway import SensorGatewayBleak\n",
    "from test_cases import Testautomation\n",
    "from binascii import hexlify\n",
    "from datetime import datetime"
   ]
  },
  {
   "cell_type": "raw",
   "id": "7a818ed1",
   "metadata": {},
   "source": [
    "test = SensorGatewayBleak.RuuviTagAccelerometerCommunicationBleak()"
   ]
  },
  {
   "cell_type": "markdown",
   "id": "93aaf6e7",
   "metadata": {},
   "source": [
    "## Test: Set configuration with valid parameters "
   ]
  },
  {
   "cell_type": "markdown",
   "id": "8ff70333",
   "metadata": {},
   "source": [
    "Run the test below and set sampling_rate and/or sampling_resolution and/or measuring_range from **valid numbers** of the table\n",
    "\n",
    "**Valid parameters for configuration are**\n",
    "\n",
    "| Parameters / Values |   |    |    |    |     |     |     |\n",
    "|---------------------|---|----|----|----|-----|-----|-----|\n",
    "| Samplerate          | 1 | 10 | 25 | 50 | 100 | 200 | 400 |\n",
    "| Resolution          | 8 | 10 | 12 |    |     |     |     |\n",
    "| Scale               | 2 | 4  | 8  | 16 |     |     |     |"
   ]
  },
  {
   "cell_type": "raw",
   "id": "14c99e6d",
   "metadata": {},
   "source": [
    "test = Testautomation.Testfunctions()\n",
    "test.TC02_SetConfigAndCheckConfig(specific_mac='',sampling_value=100,resolution_value=10,measuring_value=4)"
   ]
  },
  {
   "cell_type": "markdown",
   "id": "661c808a",
   "metadata": {},
   "source": [
    "________________________________________________________________________________________________________"
   ]
  },
  {
   "cell_type": "markdown",
   "id": "8dbb6faf",
   "metadata": {},
   "source": [
    "________________________________________________________________________________________________________"
   ]
  },
  {
   "cell_type": "markdown",
   "id": "1f27fdcf",
   "metadata": {},
   "source": [
    "# Testcase 03: Set configuration in loop with all valid parameters "
   ]
  },
  {
   "cell_type": "markdown",
   "id": "7e8675e0",
   "metadata": {},
   "source": [
    "***Setup Environment*** <br>\n",
    "Load the necessary libraries and verify that the SensorGatewayBleak library can be imported"
   ]
  },
  {
   "cell_type": "raw",
   "id": "1574e231",
   "metadata": {},
   "source": [
    "import struct\n",
    "import time\n",
    "import sys\n",
    "sys.path.append(\"../..\")\n",
    "from gateway import SensorGatewayBleak\n",
    "from test_cases import Testautomation\n",
    "from binascii import hexlify\n",
    "from datetime import datetime"
   ]
  },
  {
   "cell_type": "raw",
   "id": "84e9c79b",
   "metadata": {},
   "source": [
    "test = SensorGatewayBleak.RuuviTagAccelerometerCommunicationBleak()"
   ]
  },
  {
   "cell_type": "markdown",
   "id": "e89d5239",
   "metadata": {},
   "source": [
    "## Test: Set configuration with valid parameters "
   ]
  },
  {
   "cell_type": "markdown",
   "id": "b444ecca",
   "metadata": {},
   "source": [
    "Run the test below it will go through all valid configurations and verify the configuration is applied.\n",
    "\n",
    "**Valid parameters for configuration are**\n",
    "\n",
    "| Parameters / Values |   |    |    |    |     |     |     |\n",
    "|---------------------|---|----|----|----|-----|-----|-----|\n",
    "| Samplerate          | 1 | 10 | 25 | 50 | 100 | 200 | 400 |\n",
    "| Resolution          | 8 | 10 | 12 |    |     |     |     |\n",
    "| Scale               | 2 | 4  | 8  | 16 |     |     |     |"
   ]
  },
  {
   "cell_type": "raw",
   "id": "f1553253",
   "metadata": {},
   "source": [
    "test = Testautomation.Testfunctions()\n",
    "test.TC03_SetAndCheckAllConfigValues(specific_mac='')"
   ]
  },
  {
   "cell_type": "markdown",
   "id": "5a9c7c1b",
   "metadata": {},
   "source": [
    "________________________________________________________________________________________________________"
   ]
  },
  {
   "cell_type": "markdown",
   "id": "22d56f4f",
   "metadata": {},
   "source": [
    "________________________________________________________________________________________________________"
   ]
  },
  {
   "cell_type": "markdown",
   "id": "c2ceb5fb",
   "metadata": {},
   "source": [
    "# Testcase 04: Set configuration with invalid parameters"
   ]
  },
  {
   "cell_type": "markdown",
   "id": "4157fe6a",
   "metadata": {},
   "source": [
    "***Setup Environment*** <br>\n",
    "Load the necessary libraries and verify that the SensorGatewayBleak library is accessible"
   ]
  },
  {
   "cell_type": "raw",
   "id": "c93015ee",
   "metadata": {},
   "source": [
    "import struct\n",
    "import time\n",
    "import sys\n",
    "sys.path.append(\"../..\")\n",
    "from gateway import SensorGatewayBleak\n",
    "from test_cases import Testautomation\n",
    "from binascii import hexlify\n",
    "from datetime import datetime"
   ]
  },
  {
   "cell_type": "raw",
   "id": "8f0f7791",
   "metadata": {},
   "source": [
    "test = SensorGatewayBleak.RuuviTagAccelerometerCommunicationBleak()"
   ]
  },
  {
   "cell_type": "markdown",
   "id": "33d2805a",
   "metadata": {},
   "source": [
    "## Test: Set configuration with invalid parameters "
   ]
  },
  {
   "cell_type": "markdown",
   "id": "fa0da82a",
   "metadata": {},
   "source": [
    "Run the test below and set sampling_rate and/or sampling_resolution and/or measuring_range to **invalid** parameter(s)\n",
    "\n",
    "**Valid parameters for configuration are**\n",
    "\n",
    "| Parameters / Values |   |    |    |    |     |     |     |\n",
    "|---------------------|---|----|----|----|-----|-----|-----|\n",
    "| Samplerate          | 1 | 10 | 25 | 50 | 100 | 200 | 400 |\n",
    "| Resolution          | 8 | 10 | 12 |    |     |     |     |\n",
    "| Scale               | 2 | 4  | 8  | 16 |     |     |     |"
   ]
  },
  {
   "cell_type": "raw",
   "id": "5bf70a8f",
   "metadata": {},
   "source": [
    "config_datas = test.get_config_from_sensor()\n",
    "print(config_datas)\n",
    "print(config_datas['Resolution'])\n",
    "time.sleep(5)\n",
    "test.set_config_sensor(sampling_rate=100,sampling_resolution=10,measuring_range=12)\n",
    "config_datas = test.get_config_from_sensor()\n",
    "print(config_datas)\n",
    "print(config_datas['Resolution'])"
   ]
  },
  {
   "cell_type": "markdown",
   "id": "15f643a1",
   "metadata": {},
   "source": [
    "________________________________________________________________________________________________________"
   ]
  },
  {
   "cell_type": "markdown",
   "id": "9a8e0085",
   "metadata": {},
   "source": [
    "________________________________________________________________________________________________________"
   ]
  },
  {
   "cell_type": "markdown",
   "id": "78394e0d",
   "metadata": {},
   "source": [
    "# Testcase 05: Verify flash statistics are collectable"
   ]
  },
  {
   "cell_type": "markdown",
   "id": "6ca5697a",
   "metadata": {},
   "source": [
    "***Setup Environment*** <br>\n",
    "Load the necessary libraries and verify that the SensorGatewayBleak library is accessible"
   ]
  },
  {
   "cell_type": "raw",
   "id": "b444eb2a",
   "metadata": {},
   "source": [
    "import struct\n",
    "import time\n",
    "import sys\n",
    "sys.path.append(\"../..\")\n",
    "from gateway import SensorGatewayBleak\n",
    "from test_cases import Testautomation\n",
    "from binascii import hexlify\n",
    "from datetime import datetime"
   ]
  },
  {
   "cell_type": "raw",
   "id": "88926e91",
   "metadata": {},
   "source": [
    "test = SensorGatewayBleak.RuuviTagAccelerometerCommunicationBleak()"
   ]
  },
  {
   "cell_type": "markdown",
   "id": "d1e651c2",
   "metadata": {},
   "source": [
    "## Test: Verify flash statistics are collectable"
   ]
  },
  {
   "cell_type": "markdown",
   "id": "ec7b95f6",
   "metadata": {},
   "source": [
    "This Test should verify that the function get_flash_statistics() collects all statistics"
   ]
  },
  {
   "cell_type": "raw",
   "id": "694bbb8b",
   "metadata": {},
   "source": [
    "flash = test.get_flash_statistic()\n",
    "print(flash)"
   ]
  },
  {
   "cell_type": "markdown",
   "id": "631b180e",
   "metadata": {},
   "source": [
    "________________________________________________________________________________________________________"
   ]
  },
  {
   "cell_type": "markdown",
   "id": "20fb0b83",
   "metadata": {},
   "source": [
    "________________________________________________________________________________________________________"
   ]
  },
  {
   "cell_type": "markdown",
   "id": "6cab16a6",
   "metadata": {},
   "source": [
    "# Testcase 06: Change logging state"
   ]
  },
  {
   "cell_type": "markdown",
   "id": "1928a760",
   "metadata": {},
   "source": [
    "***Setup Environment*** <br>\n",
    "Load the necessary libraries and verify that the SensorGatewayBleak library is accessible"
   ]
  },
  {
   "cell_type": "raw",
   "id": "b308f2c5",
   "metadata": {},
   "source": [
    "import struct\n",
    "import time\n",
    "import sys\n",
    "sys.path.append(\"../..\")\n",
    "from gateway import SensorGatewayBleak\n",
    "from test_cases import Testautomation\n",
    "from binascii import hexlify\n",
    "from datetime import datetime"
   ]
  },
  {
   "cell_type": "raw",
   "id": "645782e5",
   "metadata": {},
   "source": [
    "test = SensorGatewayBleak.RuuviTagAccelerometerCommunicationBleak()"
   ]
  },
  {
   "cell_type": "markdown",
   "id": "e178fee7",
   "metadata": {},
   "source": [
    "## Test: Change logging state"
   ]
  },
  {
   "cell_type": "markdown",
   "id": "0b44f328",
   "metadata": {},
   "source": [
    "Run the test below and verify that logging state can be set on active / deactive <br>\n",
    "When logging state is deactivated, no further printouts expect the time is expected"
   ]
  },
  {
   "cell_type": "raw",
   "id": "314b29fc",
   "metadata": {},
   "source": [
    "test.activate_debug_logger()\n",
    "test.get_time_from_sensor()"
   ]
  },
  {
   "cell_type": "raw",
   "id": "b9326d98",
   "metadata": {},
   "source": [
    "test.deactivate_debug_logger()\n",
    "test.get_time_from_sensor()"
   ]
  },
  {
   "cell_type": "markdown",
   "id": "15215ac4",
   "metadata": {},
   "source": [
    "________________________________________________________________________________________________________"
   ]
  },
  {
   "cell_type": "markdown",
   "id": "6ced8db2",
   "metadata": {},
   "source": [
    "________________________________________________________________________________________________________"
   ]
  },
  {
   "cell_type": "markdown",
   "id": "bc393c39",
   "metadata": {},
   "source": [
    "# Testcase M01: Hard Reset Tag"
   ]
  },
  {
   "cell_type": "markdown",
   "id": "dbede2ac",
   "metadata": {},
   "source": [
    "***Setup Environment*** <br>\n",
    "Load the necessary libraries and verify that the SensorGatewayBleak library is accessible"
   ]
  },
  {
   "cell_type": "raw",
   "id": "2ba59a76",
   "metadata": {},
   "source": [
    "import struct\n",
    "import time\n",
    "import sys\n",
    "sys.path.append(\"../..\")\n",
    "from gateway import SensorGatewayBleak\n",
    "from test_cases import Testautomation\n",
    "from binascii import hexlify\n",
    "from datetime import datetime"
   ]
  },
  {
   "cell_type": "raw",
   "id": "f19d7e92",
   "metadata": {},
   "source": [
    "test = SensorGatewayBleak.RuuviTagAccelerometerCommunicationBleak()"
   ]
  },
  {
   "cell_type": "markdown",
   "id": "b98ba8ad",
   "metadata": {},
   "source": [
    "## Test: Hard Reset Tag"
   ]
  },
  {
   "cell_type": "markdown",
   "id": "eca20a39",
   "metadata": {},
   "source": [
    "***In this testcase manually interaction is required!*** <br>\n",
    "1. Run the test below and verify that the time on the tag is set and flash statistics are present\n",
    "2. ***Hard reset the Tag*** by holding the \"B\" button for ~ 10 seconds on the Tag\n",
    "3. Verify that the flash statistics got cleared and the time is reset to 1/1/1970"
   ]
  },
  {
   "cell_type": "raw",
   "id": "3556cbf1",
   "metadata": {},
   "source": [
    "test.set_sensor_time()\n",
    "tag_time = test.get_time_from_sensor()\n",
    "print(tag_time)\n",
    "flash = test.get_flash_statistic()\n",
    "print(flash)"
   ]
  },
  {
   "cell_type": "markdown",
   "id": "abdf6cf4",
   "metadata": {},
   "source": [
    "***Hard reset the tag***"
   ]
  },
  {
   "cell_type": "raw",
   "id": "32ec2db6",
   "metadata": {},
   "source": [
    "tag_time = test.get_time_from_sensor()\n",
    "print(tag_time)\n",
    "flash = test.get_flash_statistic()\n",
    "print(flash)"
   ]
  },
  {
   "cell_type": "markdown",
   "id": "f583f57d",
   "metadata": {},
   "source": [
    "________________________________________________________________________________________________________"
   ]
  },
  {
   "cell_type": "markdown",
   "id": "baf60e4e",
   "metadata": {},
   "source": [
    "________________________________________________________________________________________________________"
   ]
  },
  {
   "cell_type": "markdown",
   "id": "40a6b7e5",
   "metadata": {},
   "source": [
    "# Testcase M02: Set Time and recheck after long time"
   ]
  },
  {
   "cell_type": "markdown",
   "id": "15dd3e75",
   "metadata": {},
   "source": [
    "***Setup Environment*** <br>\n",
    "Load the necessary libraries and verify that the SensorGatewayBleak library is accessible"
   ]
  },
  {
   "cell_type": "raw",
   "id": "f5ef4521",
   "metadata": {},
   "source": [
    "import struct\n",
    "import time\n",
    "import sys\n",
    "sys.path.append(\"../..\")\n",
    "from gateway import SensorGatewayBleak\n",
    "from test_cases import Testautomation\n",
    "from binascii import hexlify\n",
    "from datetime import datetime"
   ]
  },
  {
   "cell_type": "raw",
   "id": "41a2f3ca",
   "metadata": {},
   "source": [
    "test = SensorGatewayBleak.RuuviTagAccelerometerCommunicationBleak()"
   ]
  },
  {
   "cell_type": "markdown",
   "id": "332434d0",
   "metadata": {},
   "source": [
    "## Test: Set Time and recheck after long time"
   ]
  },
  {
   "cell_type": "markdown",
   "id": "6973b0a1",
   "metadata": {},
   "source": [
    "***In this testcase manually interaction is required!*** <br>\n",
    "The idea of this Test is to verify that the time on the RuuviTag is running parallel to the gateway time. <br>\n",
    "1. Set the time on the tag\n",
    "2. ***Wait for a certain time***\n",
    "3. verify that the time continued correctly and not hard resets happened <br>\n",
    "\n",
    "The test duration can vary - targets should be ~ 3 days / 1 week / 1 month"
   ]
  },
  {
   "cell_type": "raw",
   "id": "0336b87b",
   "metadata": {},
   "source": [
    "test.set_sensor_time()"
   ]
  },
  {
   "cell_type": "raw",
   "id": "f8ecb2eb",
   "metadata": {},
   "source": [
    "test.get_time_from_sensor()"
   ]
  },
  {
   "cell_type": "markdown",
   "id": "325d50a5",
   "metadata": {},
   "source": [
    "________________________________________________________________________________________________________"
   ]
  },
  {
   "cell_type": "markdown",
   "id": "376cf246",
   "metadata": {},
   "source": [
    "________________________________________________________________________________________________________"
   ]
  },
  {
   "cell_type": "markdown",
   "id": "5306fb45",
   "metadata": {},
   "source": [
    "# Testcase M03: Get acceleration data and drop connection"
   ]
  },
  {
   "cell_type": "markdown",
   "id": "be5bda3f",
   "metadata": {},
   "source": [
    "***Setup Environment*** <br>\n",
    "Load the necessary libraries and verify that the SensorGatewayBleak library is accessible"
   ]
  },
  {
   "cell_type": "raw",
   "id": "4a0fab42",
   "metadata": {},
   "source": [
    "import struct\n",
    "import time\n",
    "import sys\n",
    "sys.path.append(\"../..\")\n",
    "from gateway import SensorGatewayBleak\n",
    "from test_cases import Testautomation\n",
    "from binascii import hexlify\n",
    "from datetime import datetime"
   ]
  },
  {
   "cell_type": "raw",
   "id": "7e681d47",
   "metadata": {},
   "source": [
    "test = SensorGatewayBleak.RuuviTagAccelerometerCommunicationBleak()"
   ]
  },
  {
   "cell_type": "markdown",
   "id": "fb93b78b",
   "metadata": {},
   "source": [
    "## Get acceleration date from RuuviTag and Drop Connection"
   ]
  },
  {
   "cell_type": "markdown",
   "id": "511d5f07",
   "metadata": {},
   "source": [
    "***In this testcase manually interaction is required!*** <br>\n",
    "When you see get_acceleration_data as printout, ***remove the battery*** of the tag or ***move the tag out of the gateway range***"
   ]
  },
  {
   "cell_type": "raw",
   "id": "7eafd343",
   "metadata": {},
   "source": [
    "test.deactivate_debug_logger()\n",
    "test.activate_debug_logger()\n",
    "print(\"Start get_acceleration_data\")\n",
    "acceleration_samples = test.get_acceleration_data()"
   ]
  },
  {
   "cell_type": "markdown",
   "id": "0cd46d7b",
   "metadata": {},
   "source": [
    "________________________________________________________________________________________________________"
   ]
  },
  {
   "cell_type": "markdown",
   "id": "c6ea246c",
   "metadata": {},
   "source": [
    "________________________________________________________________________________________________________"
   ]
  }
 ],
 "metadata": {
  "kernelspec": {
   "display_name": "Python 3 (ipykernel)",
   "language": "python",
   "name": "python3"
  },
  "language_info": {
   "codemirror_mode": {
    "name": "ipython",
    "version": 3
   },
   "file_extension": ".py",
   "mimetype": "text/x-python",
   "name": "python",
   "nbconvert_exporter": "python",
   "pygments_lexer": "ipython3",
   "version": "3.7.3"
  }
 },
 "nbformat": 4,
 "nbformat_minor": 5
}
