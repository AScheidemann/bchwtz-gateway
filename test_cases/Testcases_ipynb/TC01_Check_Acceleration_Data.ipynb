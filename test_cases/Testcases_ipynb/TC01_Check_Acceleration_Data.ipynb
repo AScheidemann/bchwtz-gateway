{
 "cells": [
  {
   "cell_type": "markdown",
   "id": "1e13119a",
   "metadata": {},
   "source": [
    "# Testcase 01: Get Acceleration data and check"
   ]
  },
  {
   "cell_type": "markdown",
   "id": "1b1a81d9",
   "metadata": {},
   "source": [
    "***Setup Environment*** <br>\n",
    "Load the necessary libraries and verify that the SensorGatewayBleak library can be imported"
   ]
  },
  {
   "cell_type": "code",
   "execution_count": null,
   "id": "bae99ea7",
   "metadata": {},
   "outputs": [],
   "source": [
    "import struct\n",
    "import time\n",
    "import sys\n",
    "sys.path.append(\"../..\")\n",
    "from gateway import SensorGatewayBleak\n",
    "from test_cases import Testautomation\n",
    "from binascii import hexlify\n",
    "from datetime import datetime"
   ]
  },
  {
   "cell_type": "code",
   "execution_count": null,
   "id": "39041303",
   "metadata": {},
   "outputs": [],
   "source": [
    "test = SensorGatewayBleak.RuuviTagAccelerometerCommunicationBleak()"
   ]
  },
  {
   "cell_type": "markdown",
   "id": "c871a82c",
   "metadata": {},
   "source": [
    "## Get acceleration data from RuuviTag and Check"
   ]
  },
  {
   "cell_type": "markdown",
   "id": "27ea0c2d",
   "metadata": {},
   "source": [
    "1. Set the configuration and\n",
    "2. Verify that the configuration parameters are applied and check the expected time steps for this configuration\n",
    "3. Start the test and verify that time steps are correct. Check the output in the end for time step errors"
   ]
  },
  {
   "cell_type": "code",
   "execution_count": null,
   "id": "48697487",
   "metadata": {},
   "outputs": [],
   "source": [
    "test.set_config_sensor(sampling_rate=10,sampling_resolution=10,measuring_range=4)\n",
    "config_datas = test.get_config_from_sensor()\n",
    "print(config_datas)\n"
   ]
  },
  {
   "cell_type": "code",
   "execution_count": null,
   "id": "a1c5b041",
   "metadata": {},
   "outputs": [],
   "source": [
    "config_datas = test.get_config_from_sensor()\n",
    "print(\"Sampling_rate:{}\".format(config_datas['Samplerate']))\n",
    "time_steps = 1 / config_datas['Samplerate']\n",
    "print(\"Expected time steps:{}\".format(time_steps))"
   ]
  },
  {
   "cell_type": "code",
   "execution_count": null,
   "id": "9bce0e46",
   "metadata": {},
   "outputs": [],
   "source": [
    "mytest = Testautomation.Testfunctions()\n",
    "mytest.TC01_GetDataAndCheckTime('D0:91:77:B4:18:A5')"
   ]
  },
  {
   "cell_type": "code",
   "execution_count": null,
   "id": "3b211359",
   "metadata": {},
   "outputs": [],
   "source": []
  }
 ],
 "metadata": {
  "kernelspec": {
   "display_name": "Python 3 (ipykernel)",
   "language": "python",
   "name": "python3"
  },
  "language_info": {
   "codemirror_mode": {
    "name": "ipython",
    "version": 3
   },
   "file_extension": ".py",
   "mimetype": "text/x-python",
   "name": "python",
   "nbconvert_exporter": "python",
   "pygments_lexer": "ipython3",
   "version": "3.7.3"
  }
 },
 "nbformat": 4,
 "nbformat_minor": 5
}
