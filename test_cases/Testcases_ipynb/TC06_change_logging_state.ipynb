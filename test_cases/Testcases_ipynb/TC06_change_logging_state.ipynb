{
 "cells": [
  {
   "cell_type": "markdown",
   "id": "1e13119a",
   "metadata": {},
   "source": [
    "# Testcase 06: Change logging state\n",
    "# ! This notebook is not functioning any more. Trademarks and product names has been removed. "
   ]
  },
  {
   "cell_type": "markdown",
   "id": "5c3e7769",
   "metadata": {},
   "source": [
    "***Setup Environment*** <br>\n",
    "Load the necessary libraries and verify that the SensorGatewayBleak library is accessible"
   ]
  },
  {
   "cell_type": "code",
   "execution_count": null,
   "id": "bae99ea7",
   "metadata": {},
   "outputs": [],
   "source": [
    "import struct\n",
    "import time\n",
    "import sys\n",
    "sys.path.append(\"../..\")\n",
    "from gateway import SensorGatewayBleak\n",
    "from test_cases import Testautomation\n",
    "from binascii import hexlify\n",
    "from datetime import datetime"
   ]
  },
  {
   "cell_type": "code",
   "execution_count": null,
   "id": "39041303",
   "metadata": {},
   "outputs": [],
   "source": [
    "test = SensorGatewayBleak.TagAccelerometerCommunicationBleak()"
   ]
  },
  {
   "cell_type": "markdown",
   "id": "230bbf64",
   "metadata": {},
   "source": [
    "## Test: Change logging state"
   ]
  },
  {
   "cell_type": "markdown",
   "id": "9307742c",
   "metadata": {},
   "source": [
    "Run the test below and verify that logging state can be set on active / deactive <br>\n",
    "When logging state is deactivated, no further printouts expect the time is expected"
   ]
  },
  {
   "cell_type": "code",
   "execution_count": null,
   "id": "558eb3b8",
   "metadata": {},
   "outputs": [],
   "source": [
    "test.activate_debug_logger()\n",
    "test.get_time_from_sensor()"
   ]
  },
  {
   "cell_type": "code",
   "execution_count": null,
   "id": "8bf43b21",
   "metadata": {},
   "outputs": [],
   "source": [
    "test.deactivate_debug_logger()\n",
    "test.get_time_from_sensor()"
   ]
  },
  {
   "cell_type": "code",
   "execution_count": null,
   "id": "f2aa9549",
   "metadata": {},
   "outputs": [],
   "source": []
  }
 ],
 "metadata": {
  "kernelspec": {
   "display_name": "Python 3 (ipykernel)",
   "language": "python",
   "name": "python3"
  },
  "language_info": {
   "codemirror_mode": {
    "name": "ipython",
    "version": 3
   },
   "file_extension": ".py",
   "mimetype": "text/x-python",
   "name": "python",
   "nbconvert_exporter": "python",
   "pygments_lexer": "ipython3",
   "version": "3.7.3"
  }
 },
 "nbformat": 4,
 "nbformat_minor": 5
}
