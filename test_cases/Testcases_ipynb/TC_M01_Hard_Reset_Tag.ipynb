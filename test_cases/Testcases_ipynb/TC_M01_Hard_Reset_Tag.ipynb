{
 "cells": [
  {
   "cell_type": "markdown",
   "id": "1e13119a",
   "metadata": {},
   "source": [
    "# Testcase M01: Hard Reset Tag"
   ]
  },
  {
   "cell_type": "markdown",
   "id": "1b1a81d9",
   "metadata": {},
   "source": [
    "***Setup Environment*** <br>\n",
    "Load the necessary libraries and verify that the SensorGatewayBleak library is accessible"
   ]
  },
  {
   "cell_type": "code",
   "execution_count": null,
   "id": "bae99ea7",
   "metadata": {},
   "outputs": [],
   "source": [
    "import struct\n",
    "import time\n",
    "import sys\n",
    "sys.path.append(\"../..\")\n",
    "from gateway import SensorGatewayBleak\n",
    "from test_cases import Testautomation\n",
    "from binascii import hexlify\n",
    "from datetime import datetime"
   ]
  },
  {
   "cell_type": "code",
   "execution_count": null,
   "id": "39041303",
   "metadata": {},
   "outputs": [],
   "source": [
    "test = SensorGatewayBleak.RuuviTagAccelerometerCommunicationBleak()"
   ]
  },
  {
   "cell_type": "markdown",
   "id": "230bbf64",
   "metadata": {},
   "source": [
    "## Test: Hard Reset Tag"
   ]
  },
  {
   "cell_type": "markdown",
   "id": "9307742c",
   "metadata": {},
   "source": [
    "***In this testcase manually interaction is required!*** <br>\n",
    "1. Run the test below and verify that the time on the tag is set and flash statistics are present\n",
    "2. ***Hard reset the Tag*** by holding the \"B\" button for ~ 10 seconds on the Tag\n",
    "3. Verify that the flash statistics got cleared and the time is reset to 1/1/1970"
   ]
  },
  {
   "cell_type": "code",
   "execution_count": null,
   "id": "eb2b6cde",
   "metadata": {},
   "outputs": [],
   "source": [
    "test.set_sensor_time()\n",
    "tag_time = test.get_time_from_sensor()\n",
    "print(tag_time)\n",
    "flash = test.get_flash_statistic()\n",
    "print(flash)"
   ]
  },
  {
   "cell_type": "markdown",
   "id": "7df50d38",
   "metadata": {},
   "source": [
    "***Hard reset the tag***"
   ]
  },
  {
   "cell_type": "code",
   "execution_count": null,
   "id": "5e630fb8",
   "metadata": {},
   "outputs": [],
   "source": [
    "tag_time = test.get_time_from_sensor()\n",
    "print(tag_time)\n",
    "flash = test.get_flash_statistic()\n",
    "print(flash)"
   ]
  },
  {
   "cell_type": "code",
   "execution_count": null,
   "id": "0aa8abb6",
   "metadata": {},
   "outputs": [],
   "source": []
  }
 ],
 "metadata": {
  "kernelspec": {
   "display_name": "Python 3 (ipykernel)",
   "language": "python",
   "name": "python3"
  },
  "language_info": {
   "codemirror_mode": {
    "name": "ipython",
    "version": 3
   },
   "file_extension": ".py",
   "mimetype": "text/x-python",
   "name": "python",
   "nbconvert_exporter": "python",
   "pygments_lexer": "ipython3",
   "version": "3.7.3"
  }
 },
 "nbformat": 4,
 "nbformat_minor": 5
}
