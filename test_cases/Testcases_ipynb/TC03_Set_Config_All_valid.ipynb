{
 "cells": [
  {
   "cell_type": "markdown",
   "id": "1e13119a",
   "metadata": {},
   "source": [
    "# Testcase 03: Set configuration in loop with all valid parameters "
   ]
  },
  {
   "cell_type": "markdown",
   "id": "9df04035",
   "metadata": {},
   "source": [
    "***Setup Environment*** <br>\n",
    "Load the necessary libraries and verify that the SensorGatewayBleak library can be imported"
   ]
  },
  {
   "cell_type": "code",
   "execution_count": null,
   "id": "bae99ea7",
   "metadata": {},
   "outputs": [],
   "source": [
    "import struct\n",
    "import time\n",
    "import sys\n",
    "sys.path.append(\"../..\")\n",
    "from gateway import SensorGatewayBleak\n",
    "from test_cases import Testautomation\n",
    "from binascii import hexlify\n",
    "from datetime import datetime"
   ]
  },
  {
   "cell_type": "code",
   "execution_count": null,
   "id": "39041303",
   "metadata": {},
   "outputs": [],
   "source": [
    "test = SensorGatewayBleak.RuuviTagAccelerometerCommunicationBleak()"
   ]
  },
  {
   "cell_type": "markdown",
   "id": "a83e67d7",
   "metadata": {},
   "source": [
    "## Test: Set configuration with valid parameters "
   ]
  },
  {
   "attachments": {},
   "cell_type": "markdown",
   "id": "a1a50917",
   "metadata": {},
   "source": [
    "Run the test below it will go through all valid configurations and verify the configuration is applied.\n",
    "\n",
    "**Valid parameters for configuration are**\n",
    "\n",
    "| Parameters / Values |   |    |    |    |     |     |     |\n",
    "|---------------------|---|----|----|----|-----|-----|-----|\n",
    "| Samplerate          | 1 | 10 | 25 | 50 | 100 | 200 | 400 |\n",
    "| Resolution          | 8 | 10 | 12 |    |     |     |     |\n",
    "| Scale               | 2 | 4  | 8  | 16 |     |     |     |"
   ]
  },
  {
   "cell_type": "code",
   "execution_count": null,
   "id": "337a7e09",
   "metadata": {},
   "outputs": [],
   "source": [
    "test = Testautomation.Testfunctions()\n",
    "test.TC03_SetAndCheckAllConfigValues(specific_mac='')"
   ]
  },
  {
   "cell_type": "code",
   "execution_count": null,
   "id": "e456bbfc",
   "metadata": {},
   "outputs": [],
   "source": []
  }
 ],
 "metadata": {
  "kernelspec": {
   "display_name": "Python 3 (ipykernel)",
   "language": "python",
   "name": "python3"
  },
  "language_info": {
   "codemirror_mode": {
    "name": "ipython",
    "version": 3
   },
   "file_extension": ".py",
   "mimetype": "text/x-python",
   "name": "python",
   "nbconvert_exporter": "python",
   "pygments_lexer": "ipython3",
   "version": "3.7.3"
  }
 },
 "nbformat": 4,
 "nbformat_minor": 5
}
