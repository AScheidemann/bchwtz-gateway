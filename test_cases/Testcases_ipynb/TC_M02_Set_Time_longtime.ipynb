{
 "cells": [
  {
   "cell_type": "markdown",
   "id": "1e13119a",
   "metadata": {},
   "source": [
    "# Testcase M02: Set Time and recheck after long time"
   ]
  },
  {
   "cell_type": "markdown",
   "id": "1b1a81d9",
   "metadata": {},
   "source": [
    "***Setup Environment*** <br>\n",
    "Load the necessary libraries and verify that the SensorGatewayBleak library is accessible"
   ]
  },
  {
   "cell_type": "code",
   "execution_count": null,
   "id": "bae99ea7",
   "metadata": {},
   "outputs": [],
   "source": [
    "import struct\n",
    "import time\n",
    "import sys\n",
    "sys.path.append(\"../..\")\n",
    "from gateway import SensorGatewayBleak\n",
    "from test_cases import Testautomation\n",
    "from binascii import hexlify\n",
    "from datetime import datetime"
   ]
  },
  {
   "cell_type": "code",
   "execution_count": null,
   "id": "39041303",
   "metadata": {},
   "outputs": [],
   "source": [
    "test = SensorGatewayBleak.RuuviTagAccelerometerCommunicationBleak()"
   ]
  },
  {
   "cell_type": "markdown",
   "id": "230bbf64",
   "metadata": {},
   "source": [
    "## Test: Set Time and recheck after long time"
   ]
  },
  {
   "cell_type": "markdown",
   "id": "3361fff7",
   "metadata": {},
   "source": [
    "***In this testcase manually interaction is required!*** <br>\n",
    "The idea of this Test is to verify that the time on the RuuviTag is running parallel to the gateway time. <br>\n",
    "1. Set the time on the tag\n",
    "2. ***Wait for a certain time***\n",
    "3. verify that the time continued correctly and not hard resets happened <br>\n",
    "\n",
    "The test duration can vary - targets should be ~ 3 days / 1 week / 1 month"
   ]
  },
  {
   "cell_type": "code",
   "execution_count": null,
   "id": "ef3964eb",
   "metadata": {},
   "outputs": [],
   "source": [
    "test.set_sensor_time()"
   ]
  },
  {
   "cell_type": "code",
   "execution_count": null,
   "id": "eb2b6cde",
   "metadata": {},
   "outputs": [],
   "source": [
    "test.get_time_from_sensor()"
   ]
  },
  {
   "cell_type": "code",
   "execution_count": null,
   "id": "032b4925",
   "metadata": {},
   "outputs": [],
   "source": []
  }
 ],
 "metadata": {
  "kernelspec": {
   "display_name": "Python 3 (ipykernel)",
   "language": "python",
   "name": "python3"
  },
  "language_info": {
   "codemirror_mode": {
    "name": "ipython",
    "version": 3
   },
   "file_extension": ".py",
   "mimetype": "text/x-python",
   "name": "python",
   "nbconvert_exporter": "python",
   "pygments_lexer": "ipython3",
   "version": "3.7.3"
  }
 },
 "nbformat": 4,
 "nbformat_minor": 5
}
