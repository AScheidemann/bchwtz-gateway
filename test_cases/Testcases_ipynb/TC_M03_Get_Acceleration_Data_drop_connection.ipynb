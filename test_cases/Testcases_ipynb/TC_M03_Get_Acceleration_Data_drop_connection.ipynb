{
 "cells": [
  {
   "cell_type": "markdown",
   "id": "1e13119a",
   "metadata": {},
   "source": [
    "# Testcase M03: Get acceleration data and drop connection"
   ]
  },
  {
   "cell_type": "markdown",
   "id": "1b1a81d9",
   "metadata": {},
   "source": [
    "***Setup Environment*** <br>\n",
    "Load the necessary libraries and verify that the SensorGatewayBleak library is accessible"
   ]
  },
  {
   "cell_type": "code",
   "execution_count": 6,
   "id": "bae99ea7",
   "metadata": {},
   "outputs": [],
   "source": [
    "import struct\n",
    "import time\n",
    "import sys\n",
    "sys.path.append(\"../..\")\n",
    "from gateway import SensorGatewayBleak\n",
    "from test_cases import Testautomation\n",
    "from binascii import hexlify\n",
    "from datetime import datetime"
   ]
  },
  {
   "cell_type": "code",
   "execution_count": 7,
   "id": "39041303",
   "metadata": {},
   "outputs": [],
   "source": [
    "test = SensorGatewayBleak.RuuviTagAccelerometerCommunicationBleak()"
   ]
  },
  {
   "cell_type": "markdown",
   "id": "c871a82c",
   "metadata": {},
   "source": [
    "## Get acceleration date from RuuviTag and Drop Connection"
   ]
  },
  {
   "cell_type": "markdown",
   "id": "2ff566b9",
   "metadata": {},
   "source": [
    "***In this testcase manually interaction is required!*** <br>\n",
    "When you see get_acceleration_data as printout, ***remove the battery*** of the tag or ***move the tag out of the gateway range***"
   ]
  },
  {
   "cell_type": "code",
   "execution_count": null,
   "id": "76b730e8",
   "metadata": {},
   "outputs": [],
   "source": [
    "test.deactivate_debug_logger()\n",
    "test.activate_debug_logger()\n",
    "print(\"Start get_acceleration_data\")\n",
    "acceleration_samples = test.get_acceleration_data()"
   ]
  }
 ],
 "metadata": {
  "kernelspec": {
   "display_name": "Python 3 (ipykernel)",
   "language": "python",
   "name": "python3"
  },
  "language_info": {
   "codemirror_mode": {
    "name": "ipython",
    "version": 3
   },
   "file_extension": ".py",
   "mimetype": "text/x-python",
   "name": "python",
   "nbconvert_exporter": "python",
   "pygments_lexer": "ipython3",
   "version": "3.7.3"
  }
 },
 "nbformat": 4,
 "nbformat_minor": 5
}
