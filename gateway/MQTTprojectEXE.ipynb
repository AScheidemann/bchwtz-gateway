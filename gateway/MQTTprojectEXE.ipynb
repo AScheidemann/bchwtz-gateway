{
 "cells": [
  {
   "cell_type": "markdown",
   "id": "ef772800",
   "metadata": {},
   "source": [
    "# Run the ProcessHandler.py"
   ]
  },
  {
   "cell_type": "markdown",
   "id": "b2a0c500",
   "metadata": {},
   "source": [
    "The ProcessHandler is the starting point of the project. From here the submodules are controlled and managed in threads. The module can also be started via CLI but its functions were tested via notebooks. The directory tree is important to import the modules correctly.\n",
    "\n",
    "> #### Attention\n",
    "> To install the required packages you can run `pip install -r requirements.txt`. Please dont use the `setup.py`\n",
    "\n",
    "> #### Note\n",
    "> Using asyncronous loops in multiple thread and start it inside a notebook is not the most stable away. The logger will continiously write a `warning` inside the kernel. We think that this behavior is caused by competing event loops."
   ]
  },
  {
   "cell_type": "code",
   "execution_count": 1,
   "id": "99f068f2",
   "metadata": {},
   "outputs": [],
   "source": [
    "import nest_asyncio\n",
    "nest_asyncio.apply()"
   ]
  },
  {
   "cell_type": "code",
   "execution_count": 19,
   "id": "f32c7f91",
   "metadata": {},
   "outputs": [
    {
     "name": "stdout",
     "output_type": "stream",
     "text": [
      "Connected with result code 0\n"
     ]
    }
   ],
   "source": [
    "%run ProcessHandler.py"
   ]
  }
 ],
 "metadata": {
  "kernelspec": {
   "display_name": "Python 3 (ipykernel)",
   "language": "python",
   "name": "python3"
  },
  "language_info": {
   "codemirror_mode": {
    "name": "ipython",
    "version": 3
   },
   "file_extension": ".py",
   "mimetype": "text/x-python",
   "name": "python",
   "nbconvert_exporter": "python",
   "pygments_lexer": "ipython3",
   "version": "3.7.11"
  }
 },
 "nbformat": 4,
 "nbformat_minor": 5
}
