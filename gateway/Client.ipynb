{
 "cells": [
  {
   "cell_type": "code",
   "execution_count": null,
   "id": "ded1e0ff",
   "metadata": {},
   "outputs": [],
   "source": [
    "import time\n",
    "import Thing"
   ]
  },
  {
   "cell_type": "code",
   "execution_count": null,
   "id": "cf83bd0a",
   "metadata": {},
   "outputs": [],
   "source": [
    "mf_client2 = Thing.Thing(username=\"a9793bed-ed85-44e5-8346-5628a392da9b\", password=\"a1272c0c-64d7-4b8b-a85b-14e53a78ddc7\")\n",
    "command_chl = \"channels/d580cbe3-251b-4588-86d7-a446b8eee92b/messages\"\n",
    "mf_client2.connect_to_broker(\"mf.sys-tem.org\")"
   ]
  },
  {
   "cell_type": "code",
   "execution_count": null,
   "id": "38bf8f33",
   "metadata": {},
   "outputs": [],
   "source": [
    "mf_client2.sub_to_channel(topic=command_chl, qos = 0)"
   ]
  },
  {
   "cell_type": "code",
   "execution_count": null,
   "id": "80e2ae3d",
   "metadata": {},
   "outputs": [],
   "source": [
    "adv_chl = \"channels/34f9ec3c-aa5b-4072-a0f1-396a932c5c31/messages/advertisement\"\n",
    "mf_client2.sub_to_channel(topic=adv_chl, qos = 0)"
   ]
  },
  {
   "cell_type": "code",
   "execution_count": null,
   "id": "dc5b2888",
   "metadata": {},
   "outputs": [],
   "source": [
    "mf_client2.pub_to_channel(topic= adv_chl, payload = '[{Hello, there]')"
   ]
  },
  {
   "cell_type": "code",
   "execution_count": null,
   "id": "ef1e392b",
   "metadata": {},
   "outputs": [],
   "source": [
    "mf_client2.pub_to_channel(topic= command_chl, payload = '[{\"Time\" : \"%f\",\"Command\": \"get_time_from_sensor\", \"MAC\" : \"F0:CB:45:2B:51:0B\"}]')"
   ]
  }
 ],
 "metadata": {
  "kernelspec": {
   "display_name": "Python 3 (ipykernel)",
   "language": "python",
   "name": "python3"
  },
  "language_info": {
   "codemirror_mode": {
    "name": "ipython",
    "version": 3
   },
   "file_extension": ".py",
   "mimetype": "text/x-python",
   "name": "python",
   "nbconvert_exporter": "python",
   "pygments_lexer": "ipython3",
   "version": "3.8.11"
  }
 },
 "nbformat": 4,
 "nbformat_minor": 5
}
