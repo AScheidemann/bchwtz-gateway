{
 "cells": [
  {
   "cell_type": "markdown",
   "id": "519238c6",
   "metadata": {},
   "source": [
    "# The Client"
   ]
  },
  {
   "cell_type": "markdown",
   "id": "7b4943be",
   "metadata": {},
   "source": [
    "This notbook should be used to validate the communication features between a client and a gateway. First of all we import time to transmit a Timestamp and the submodule `Thing` to use some basic `paho` functionalities. To get more informations about how the `Thing`submodule and `paho` works please use the docstrings or the `paho`-[Documentation](https://www.eclipse.org/paho/index.php?page=clients/python/docs/index.php)"
   ]
  },
  {
   "cell_type": "code",
   "execution_count": null,
   "id": "ded1e0ff",
   "metadata": {},
   "outputs": [],
   "source": [
    "import time\n",
    "import Thing"
   ]
  },
  {
   "cell_type": "markdown",
   "id": "1417e1ec",
   "metadata": {},
   "source": [
    "Preperation:\n",
    "1. Initialize an object of the class `Thing`\n",
    "2. Define the channels in which we subscribe or publish to\n",
    "    * `command_chl` = This channel will recieve the commands\n",
    "    * `command_chl_fb` = This channel will get the response\n",
    "    * `adv_chl` = This channel will recieve the advertisementdata\n",
    "3. Connect to mqtt broker\n",
    "4. Subscribe to the channels\n",
    "4. Publish messages to the channels"
   ]
  },
  {
   "cell_type": "code",
   "execution_count": null,
   "id": "cf83bd0a",
   "metadata": {},
   "outputs": [],
   "source": [
    "mf_client2 = Thing.Thing(username=\"a9793bed-ed85-44e5-8346-5628a392da9b\", password=\"a1272c0c-64d7-4b8b-a85b-14e53a78ddc7\")\n",
    "command_chl = \"channels/d580cbe3-251b-4588-86d7-a446b8eee92b/messages\"\n",
    "command_chl_fb = \"channels/d580cbe3-251b-4588-86d7-a446b8eee92b/messages/feedback\"\n",
    "mf_client2.connect_to_broker(\"mf.sys-tem.org\")"
   ]
  },
  {
   "cell_type": "code",
   "execution_count": null,
   "id": "38bf8f33",
   "metadata": {},
   "outputs": [],
   "source": [
    "mf_client2.sub_to_channel(topic=command_chl_fb, qos = 0)"
   ]
  },
  {
   "cell_type": "code",
   "execution_count": null,
   "id": "80e2ae3d",
   "metadata": {},
   "outputs": [],
   "source": [
    "adv_chl = \"channels/34f9ec3c-aa5b-4072-a0f1-396a932c5c31/messages/advertisement\"\n",
    "mf_client2.sub_to_channel(topic=adv_chl, qos = 0)"
   ]
  },
  {
   "cell_type": "code",
   "execution_count": null,
   "id": "dc5b2888",
   "metadata": {},
   "outputs": [],
   "source": [
    "mf_client2.pub_to_channel(topic= adv_chl, payload = '[{Hello, there]')"
   ]
  },
  {
   "cell_type": "code",
   "execution_count": null,
   "id": "ef1e392b",
   "metadata": {},
   "outputs": [],
   "source": [
    "mf_client2.pub_to_channel(topic= command_chl, payload = '[{\"Time\" : \"%f\",\"Command\": \"get_time_from_sensor\", \"MAC\" : \"F0:CB:45:2B:51:0B\"}]')"
   ]
  }
 ],
 "metadata": {
  "kernelspec": {
   "display_name": "Python 3 (ipykernel)",
   "language": "python",
   "name": "python3"
  },
  "language_info": {
   "codemirror_mode": {
    "name": "ipython",
    "version": 3
   },
   "file_extension": ".py",
   "mimetype": "text/x-python",
   "name": "python",
   "nbconvert_exporter": "python",
   "pygments_lexer": "ipython3",
   "version": "3.7.11"
  }
 },
 "nbformat": 4,
 "nbformat_minor": 5
}
