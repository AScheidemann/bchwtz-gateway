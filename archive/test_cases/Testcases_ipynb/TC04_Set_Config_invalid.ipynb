{
 "cells": [
  {
   "cell_type": "markdown",
   "id": "1e13119a",
   "metadata": {},
   "source": [
    "# Testcase 04: Set configuration with invalid parameters\n",
    "# ! This notebook is not functioning any more. Trademarks and product names has been removed. "
   ]
  },
  {
   "cell_type": "markdown",
   "id": "4ac3a813",
   "metadata": {},
   "source": [
    "***Setup Environment*** <br>\n",
    "Load the necessary libraries and verify that the SensorGatewayBleak library is accessible"
   ]
  },
  {
   "cell_type": "code",
   "execution_count": null,
   "id": "bae99ea7",
   "metadata": {},
   "outputs": [],
   "source": [
    "import struct\n",
    "import time\n",
    "import sys\n",
    "sys.path.append(\"../..\")\n",
    "from gateway import SensorGatewayBleak\n",
    "from test_cases import Testautomation\n",
    "from binascii import hexlify\n",
    "from datetime import datetime"
   ]
  },
  {
   "cell_type": "code",
   "execution_count": null,
   "id": "39041303",
   "metadata": {},
   "outputs": [],
   "source": [
    "test = SensorGatewayBleak.TagAccelerometerCommunicationBleak()"
   ]
  },
  {
   "cell_type": "markdown",
   "id": "230bbf64",
   "metadata": {},
   "source": [
    "## Test: Set configuration with invalid parameters "
   ]
  },
  {
   "attachments": {},
   "cell_type": "markdown",
   "id": "9307742c",
   "metadata": {},
   "source": [
    "Run the test below and set sampling_rate and/or sampling_resolution and/or measuring_range to **invalid** parameter(s)\n",
    "\n",
    "**Valid parameters for configuration are**\n",
    "\n",
    "| Parameters / Values |   |    |    |    |     |     |     |\n",
    "|---------------------|---|----|----|----|-----|-----|-----|\n",
    "| Samplerate          | 1 | 10 | 25 | 50 | 100 | 200 | 400 |\n",
    "| Resolution          | 8 | 10 | 12 |    |     |     |     |\n",
    "| Scale               | 2 | 4  | 8  | 16 |     |     |     |"
   ]
  },
  {
   "cell_type": "code",
   "execution_count": null,
   "id": "75192098",
   "metadata": {},
   "outputs": [],
   "source": [
    "config_datas = test.get_config_from_sensor()\n",
    "print(config_datas)\n",
    "print(config_datas['Resolution'])\n",
    "time.sleep(5)\n",
    "test.set_config_sensor(sampling_rate=100,sampling_resolution=10,measuring_range=12)\n",
    "config_datas = test.get_config_from_sensor()\n",
    "print(config_datas)\n",
    "print(config_datas['Resolution'])"
   ]
  }
 ],
 "metadata": {
  "kernelspec": {
   "display_name": "Python 3 (ipykernel)",
   "language": "python",
   "name": "python3"
  },
  "language_info": {
   "codemirror_mode": {
    "name": "ipython",
    "version": 3
   },
   "file_extension": ".py",
   "mimetype": "text/x-python",
   "name": "python",
   "nbconvert_exporter": "python",
   "pygments_lexer": "ipython3",
   "version": "3.7.3"
  }
 },
 "nbformat": 4,
 "nbformat_minor": 5
}
