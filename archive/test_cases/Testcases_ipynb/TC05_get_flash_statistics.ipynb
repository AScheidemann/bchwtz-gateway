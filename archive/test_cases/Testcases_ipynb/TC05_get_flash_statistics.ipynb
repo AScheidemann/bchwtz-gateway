{
 "cells": [
  {
   "cell_type": "markdown",
   "id": "1e13119a",
   "metadata": {},
   "source": [
    "# Testcase 05: Verify flash statistics are collectable\n",
    "# ! This notebook is not functioning any more. Trademarks and product names has been removed. "
   ]
  },
  {
   "cell_type": "markdown",
   "id": "47769be9",
   "metadata": {},
   "source": [
    "***Setup Environment*** <br>\n",
    "Load the necessary libraries and verify that the SensorGatewayBleak library is accessible"
   ]
  },
  {
   "cell_type": "code",
   "execution_count": null,
   "id": "bae99ea7",
   "metadata": {},
   "outputs": [],
   "source": [
    "import struct\n",
    "import time\n",
    "import sys\n",
    "sys.path.append(\"../..\")\n",
    "from gateway import SensorGatewayBleak\n",
    "from test_cases import Testautomation\n",
    "from binascii import hexlify\n",
    "from datetime import datetime"
   ]
  },
  {
   "cell_type": "code",
   "execution_count": null,
   "id": "39041303",
   "metadata": {},
   "outputs": [],
   "source": [
    "test = SensorGatewayBleak.TagAccelerometerCommunicationBleak()"
   ]
  },
  {
   "cell_type": "markdown",
   "id": "230bbf64",
   "metadata": {},
   "source": [
    "## Test: Verify flash statistics are collectable"
   ]
  },
  {
   "cell_type": "markdown",
   "id": "9307742c",
   "metadata": {},
   "source": [
    "This Test should verify that the function get_flash_statistics() collects all statistics"
   ]
  },
  {
   "cell_type": "code",
   "execution_count": null,
   "id": "5e630fb8",
   "metadata": {},
   "outputs": [],
   "source": [
    "flash = test.get_flash_statistic()\n",
    "print(flash)"
   ]
  },
  {
   "cell_type": "code",
   "execution_count": null,
   "id": "0aa8abb6",
   "metadata": {},
   "outputs": [],
   "source": []
  }
 ],
 "metadata": {
  "kernelspec": {
   "display_name": "Python 3 (ipykernel)",
   "language": "python",
   "name": "python3"
  },
  "language_info": {
   "codemirror_mode": {
    "name": "ipython",
    "version": 3
   },
   "file_extension": ".py",
   "mimetype": "text/x-python",
   "name": "python",
   "nbconvert_exporter": "python",
   "pygments_lexer": "ipython3",
   "version": "3.7.3"
  }
 },
 "nbformat": 4,
 "nbformat_minor": 5
}
