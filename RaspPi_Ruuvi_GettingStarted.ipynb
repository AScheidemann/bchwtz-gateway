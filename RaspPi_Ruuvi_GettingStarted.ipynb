{
 "cells": [
  {
   "cell_type": "markdown",
   "id": "1e13119a",
   "metadata": {},
   "source": [
    "# Modultest"
   ]
  },
  {
   "cell_type": "markdown",
   "id": "5c3e7769",
   "metadata": {},
   "source": [
    "To import the Library SensorGatewayBleak the Script `SensorGatewayBleak.py` has to be in the same directory."
   ]
  },
  {
   "cell_type": "code",
   "execution_count": null,
   "id": "bae99ea7",
   "metadata": {},
   "outputs": [],
   "source": [
    "import SensorGatewayBleak"
   ]
  },
  {
   "cell_type": "code",
   "execution_count": null,
   "id": "39041303",
   "metadata": {},
   "outputs": [],
   "source": [
    "Ruvi_Com_Obj = SensorGatewayBleak.RuuviTagAccelerometerCommunicationBleak()"
   ]
  },
  {
   "cell_type": "markdown",
   "id": "d3f4c179",
   "metadata": {},
   "source": [
    "## Get acceleration date from RuuviTag"
   ]
  },
  {
   "cell_type": "code",
   "execution_count": null,
   "id": "5b2727fc",
   "metadata": {},
   "outputs": [],
   "source": [
    "Ruvi_Com_Obj.deactivate_logging_at_sensor()"
   ]
  },
  {
   "cell_type": "code",
   "execution_count": null,
   "id": "96de45ac",
   "metadata": {},
   "outputs": [],
   "source": [
    "Ruvi_Com_Obj.activate_logging_at_sensor()"
   ]
  },
  {
   "cell_type": "code",
   "execution_count": null,
   "id": "abcdd3b7",
   "metadata": {},
   "outputs": [],
   "source": [
    "Ruvi_Com_Obj.get_acceleration_data()"
   ]
  }
 ],
 "metadata": {
  "kernelspec": {
   "display_name": "Python 3",
   "language": "python",
   "name": "python3"
  },
  "language_info": {
   "codemirror_mode": {
    "name": "ipython",
    "version": 3
   },
   "file_extension": ".py",
   "mimetype": "text/x-python",
   "name": "python",
   "nbconvert_exporter": "python",
   "pygments_lexer": "ipython3",
   "version": "3.7.10"
  }
 },
 "nbformat": 4,
 "nbformat_minor": 5
}
